{
 "cells": [
  {
   "cell_type": "markdown",
   "id": "6e7e2899-fb16-44ba-af69-36ffa7df9c20",
   "metadata": {},
   "source": [
    "Welcome to python program class (setup and installation)\n",
    "# Heading 1\n",
    "## Heading 2\n",
    "### Heading 3\n",
    "#### Heading 4\n",
    "##### Heading 5\n",
    "###### heading 6"
   ]
  },
  {
   "cell_type": "code",
   "execution_count": 1,
   "id": "9a737434-ef2c-4e84-882a-f2ed906f8997",
   "metadata": {
    "scrolled": true
   },
   "outputs": [
    {
     "name": "stdout",
     "output_type": "stream",
     "text": [
      "hello world\n"
     ]
    }
   ],
   "source": [
    "print(\"hello world\")"
   ]
  },
  {
   "cell_type": "code",
   "execution_count": 2,
   "id": "1e83abf8-08ac-4983-b5ea-fc719cd63a4f",
   "metadata": {},
   "outputs": [
    {
     "name": "stdout",
     "output_type": "stream",
     "text": [
      "My name is AbascoRit\n"
     ]
    }
   ],
   "source": [
    "print(\"My name is AbascoRit\")"
   ]
  },
  {
   "cell_type": "markdown",
   "id": "a200b3de-838e-424e-9165-fca60bb3a58f",
   "metadata": {},
   "source": [
    "# what is Python"
   ]
  },
  {
   "cell_type": "code",
   "execution_count": 3,
   "id": "0fd3b7ad-0962-4e38-bea2-bedd92fe8c0b",
   "metadata": {},
   "outputs": [
    {
     "name": "stdout",
     "output_type": "stream",
     "text": [
      "welcome to class\n"
     ]
    }
   ],
   "source": [
    "print(\"welcome to class\")"
   ]
  }
 ],
 "metadata": {
  "kernelspec": {
   "display_name": "Python [conda env:base] *",
   "language": "python",
   "name": "conda-base-py"
  },
  "language_info": {
   "codemirror_mode": {
    "name": "ipython",
    "version": 3
   },
   "file_extension": ".py",
   "mimetype": "text/x-python",
   "name": "python",
   "nbconvert_exporter": "python",
   "pygments_lexer": "ipython3",
   "version": "3.12.7"
  }
 },
 "nbformat": 4,
 "nbformat_minor": 5
}
